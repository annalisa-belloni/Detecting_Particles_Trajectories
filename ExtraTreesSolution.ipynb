{
 "cells": [
  {
   "cell_type": "markdown",
   "id": "07b3a02f-7af5-41f8-aba6-ba1a5d737671",
   "metadata": {},
   "source": [
    "# DSL Winter Project - ExtraTreesRegressor"
   ]
  },
  {
   "cell_type": "markdown",
   "id": "e23c2b06-c99c-41de-a06d-c0b92d4aef21",
   "metadata": {},
   "source": [
    "To view the code for the graphs presented in the report, please refer to the other file \"RandomForest_and_GraphCodes\"."
   ]
  },
  {
   "cell_type": "code",
   "execution_count": null,
   "id": "a2b47165-859f-4a53-8533-5ce6feb1ee12",
   "metadata": {},
   "outputs": [],
   "source": [
    "import pandas as pd\n",
    "import numpy as np\n",
    "import matplotlib.pyplot as plt\n",
    "import seaborn as sns\n",
    "import time\n",
    "from datetime import datetime"
   ]
  },
  {
   "cell_type": "code",
   "execution_count": null,
   "id": "5ef845ca-5bbd-42d8-8e49-753e51230e59",
   "metadata": {},
   "outputs": [],
   "source": [
    "# setting the random state\n",
    "rs = 42"
   ]
  },
  {
   "cell_type": "code",
   "execution_count": null,
   "id": "8db32b82-04fc-4413-972f-754a6ca0fdfb",
   "metadata": {},
   "outputs": [],
   "source": [
    "df_full = pd.read_csv(\"development.csv\")\n",
    "df_full.shape"
   ]
  },
  {
   "cell_type": "markdown",
   "id": "da7187a3-8252-4530-8846-15969e904cf5",
   "metadata": {},
   "source": [
    "## Preprocessing"
   ]
  },
  {
   "cell_type": "markdown",
   "id": "632c9a80-f31e-4c0b-be1a-06f9d6c54e23",
   "metadata": {},
   "source": [
    "#### Domain constraints"
   ]
  },
  {
   "cell_type": "code",
   "execution_count": null,
   "id": "8b108ce7-6c30-4b6e-b76b-03d2747dad8b",
   "metadata": {},
   "outputs": [],
   "source": [
    "for i in range(18):\n",
    "    mask = df_full[f'negpmax[{i}]']>0\n",
    "    df_full = df_full.loc[~mask]\n",
    "\n",
    "df_full.shape"
   ]
  },
  {
   "cell_type": "markdown",
   "id": "85985175-e110-40ca-b898-39ca35b706c4",
   "metadata": {},
   "source": [
    "#### Noise features"
   ]
  },
  {
   "cell_type": "markdown",
   "id": "0f7efe6a-a87f-4657-8ac6-d1b7fbfc6df6",
   "metadata": {},
   "source": [
    "To understand how we detected the noise features, please refer to the other file \"RandomForest_and_GraphCodes\"."
   ]
  },
  {
   "cell_type": "code",
   "execution_count": null,
   "id": "1a0af954-5c50-49b7-9834-979c8e50fddf",
   "metadata": {},
   "outputs": [],
   "source": [
    "noise_columns = [f\"pmax[{i}]\" for i in [0, 7, 12, 15, 16, 17]] + \\\n",
    "                [f\"negpmax[{i}]\" for i in [0, 7, 12, 15, 16, 17]] + \\\n",
    "                [f\"area[{i}]\" for i in [0, 7, 12, 15, 16, 17]] + \\\n",
    "                [f\"tmax[{i}]\" for i in [0, 7, 12, 15, 16, 17]] + \\\n",
    "                [f\"rms[{i}]\" for i in [0, 7, 12, 15, 16, 17]]\n",
    "noise_columns\n",
    "df_nonoise = df_full.drop(columns=noise_columns)"
   ]
  },
  {
   "cell_type": "code",
   "execution_count": null,
   "id": "f21214d8-35b5-4364-847b-f5cbf608564e",
   "metadata": {},
   "outputs": [],
   "source": [
    "df = df_nonoise\n",
    "df.shape"
   ]
  },
  {
   "cell_type": "code",
   "execution_count": null,
   "id": "7cb5040d-94bf-4f63-88b7-8c12768b6ee1",
   "metadata": {},
   "outputs": [],
   "source": [
    "# dividing df in X (inputs) and y (target variables)\n",
    "y = df.loc[:,[\"x\", \"y\"]]\n",
    "X = df.iloc[:,2:]"
   ]
  },
  {
   "cell_type": "code",
   "execution_count": null,
   "id": "3c99fc82-9dbb-4ff7-b325-96599f2e9229",
   "metadata": {},
   "outputs": [],
   "source": [
    "# train test split\n",
    "from sklearn.model_selection import train_test_split\n",
    "\n",
    "X_train, X_test, y_train, y_test = train_test_split(X, y, test_size=0.20, shuffle=True, stratify=y, random_state=rs)"
   ]
  },
  {
   "cell_type": "code",
   "execution_count": null,
   "id": "b8b89dfe-8bc4-46da-b5a2-a111bb97e909",
   "metadata": {},
   "outputs": [],
   "source": [
    "# definition of the evaluation metric\n",
    "def euclidean_metric(y_true, y_pred):\n",
    "    return np.mean(np.sqrt(np.sum((y_true-y_pred)**2, axis=1)))"
   ]
  },
  {
   "cell_type": "markdown",
   "id": "6938c7f0-8bc7-406c-b685-4d4e694ce6a7",
   "metadata": {},
   "source": [
    "#### Features' importances"
   ]
  },
  {
   "cell_type": "code",
   "execution_count": null,
   "id": "43b0903e-b759-48bd-8b74-1827483d2826",
   "metadata": {
    "scrolled": true
   },
   "outputs": [],
   "source": [
    "from sklearn.ensemble import ExtraTreesRegressor\n",
    "from sklearn.metrics import r2_score\n",
    "\n",
    "# model for feature extraction\n",
    "etr0 = ExtraTreesRegressor(n_estimators=100, max_features=1.0, random_state=rs, n_jobs=-1, verbose=5)\n",
    "etr0.fit(X_train, y_train)\n",
    "print(f\"r2: {r2_score(y_test, etr0.predict(X_test))} avg_euclidean:{euclidean_metric(y_test, etr0.predict(X_test))}\")"
   ]
  },
  {
   "cell_type": "code",
   "execution_count": null,
   "id": "69b61326-de63-4a3e-9d1f-ab48981e758b",
   "metadata": {
    "scrolled": true
   },
   "outputs": [],
   "source": [
    "feature_names = X.columns\n",
    "sorted(zip(feature_names, etr0.feature_importances_), key=lambda x: x[1], reverse=True)\n",
    "# It seems that rms and tmax are not important features"
   ]
  },
  {
   "cell_type": "code",
   "execution_count": null,
   "id": "eb64cdce-f367-469b-8b5d-04f90669020f",
   "metadata": {},
   "outputs": [],
   "source": [
    "plt.figure(figsize=(12,6))\n",
    "feature_importance = pd.Series(etr0.feature_importances_, index = feature_names)\n",
    "feature_importance_sorted = feature_importance.sort_values(ascending=False)\n",
    "feature_importance_sorted.plot(kind='bar')\n",
    "#plt.axhline(y=1e-03, color='r', linestyle='--', label='Threshold at 1e-03')\n",
    "plt.savefig('feature_importance2.png')"
   ]
  },
  {
   "cell_type": "code",
   "execution_count": null,
   "id": "f5a10ded-2f61-4f6a-8ca3-11abfb240410",
   "metadata": {},
   "outputs": [],
   "source": [
    "r = [f\"rms[{i}]\" for i in range(18) if i not in [0, 7, 12, 15, 16, 17]]\n",
    "t = [f\"tmax[{i}]\" for i in range(18) if i not in [0, 7, 12, 15, 16, 17]]\n",
    "c = r+t\n",
    "# Remove rms and tmax features\n",
    "X_train, X_test, y_train, y_test = train_test_split(X.drop(columns=c), y, test_size=0.20, stratify=y, shuffle=True, random_state=0)\n",
    "X_train\n",
    "features_used = X_train.columns"
   ]
  },
  {
   "cell_type": "markdown",
   "id": "ac456f39-f2c4-493a-8679-21d70437df47",
   "metadata": {},
   "source": [
    "## Validation"
   ]
  },
  {
   "cell_type": "markdown",
   "id": "97386a82-1b19-4bfb-9483-d18c61ae3fbc",
   "metadata": {},
   "source": [
    "### ETR - GridSearch"
   ]
  },
  {
   "cell_type": "code",
   "execution_count": null,
   "id": "e0020861-7012-428b-839f-ae8be3531795",
   "metadata": {
    "scrolled": true
   },
   "outputs": [],
   "source": [
    "import time\n",
    "from datetime import datetime\n",
    "from sklearn.metrics import make_scorer\n",
    "from sklearn.ensemble import ExtraTreesRegressor\n",
    "from sklearn.metrics import r2_score\n",
    "from sklearn.model_selection import GridSearchCV\n",
    "from sklearn.model_selection import RandomizedSearchCV\n",
    "\n",
    "params_etr = {'n_estimators': [100, 200, 300],\n",
    "                  'max_features': [\"sqrt\", 0.33, 0.5],\n",
    "                  'criterion': [\"squared_error\", \"poisson\"],\n",
    "                  'n_jobs': [-1],\n",
    "                  'max_depth': [None, 10, 30, 50],\n",
    "                  'random_state': [rs]\n",
    "            }\n",
    "\n",
    "\n",
    "print(f\"start: {datetime.now()}\")\n",
    "gs_etr = GridSearchCV(ExtraTreesRegressor(), params_etr, scoring=make_scorer(euclidean_metric, greater_is_better=False),\n",
    "                          n_jobs=-1, cv=3, verbose=2, error_score='raise')\n",
    "gs_etr.fit(X_train, y_train)\n",
    "print(f\"end: {datetime.now()}\")"
   ]
  },
  {
   "cell_type": "code",
   "execution_count": null,
   "id": "8477a3b3-c9ca-43b8-b956-2d7b4be42917",
   "metadata": {},
   "outputs": [],
   "source": [
    "gs_etr.best_params_"
   ]
  },
  {
   "cell_type": "markdown",
   "id": "df8188df-b3b8-421c-81d6-aa7d1d54aa0d",
   "metadata": {},
   "source": [
    "{'criterion': 'squared_error', 'max_depth': None, 'max_features': 0.5, 'n_estimators': 300, 'n_jobs': -1, 'random_state': 42}"
   ]
  },
  {
   "cell_type": "code",
   "execution_count": null,
   "id": "2fc41b42-a21d-499e-93f6-9596746370bf",
   "metadata": {},
   "outputs": [],
   "source": [
    "gs_etr.best_score_"
   ]
  },
  {
   "cell_type": "code",
   "execution_count": null,
   "id": "3805718a-ce8b-425f-8557-0d99324e8f55",
   "metadata": {},
   "outputs": [],
   "source": [
    "print(f\"r2: {r2_score(y_test, gs_etr.predict(X_test))} avg_euclidean:{euclidean_metric(y_test, gs_etr.predict(X_test))}\")"
   ]
  },
  {
   "cell_type": "markdown",
   "id": "199d0b1c-f3f9-44c4-89e2-2959e8ccf631",
   "metadata": {},
   "source": [
    "## Results"
   ]
  },
  {
   "cell_type": "markdown",
   "id": "42758911-5dad-4497-84e9-84639c25d035",
   "metadata": {},
   "source": [
    "### Result on test set"
   ]
  },
  {
   "cell_type": "code",
   "execution_count": null,
   "id": "035dfc66-5cb0-423d-af92-2c279000fc8b",
   "metadata": {
    "scrolled": true
   },
   "outputs": [],
   "source": [
    "from sklearn.metrics import r2_score\n",
    "\n",
    "etr1 = ExtraTreesRegressor(n_estimators=300, max_features=0.5, criterion = 'squared_error', max_depth = None, random_state=rs, n_jobs=-1) #---> optimal configuration\n",
    "etr1.fit(X_train, y_train)\n",
    "print(f\"r2: {r2_score(y_test, etr1.predict(X_test))} avg_euclidean:{euclidean_metric(y_test, etr1.predict(X_test))}\") #---> result on test set"
   ]
  },
  {
   "cell_type": "markdown",
   "id": "cc7cf1bf-58a6-4056-975f-90ee29570abb",
   "metadata": {},
   "source": [
    "r2: 0.999191109880434 avg_euclidean: 3.9232207897958213"
   ]
  },
  {
   "cell_type": "markdown",
   "id": "106343fa-c239-46cc-98af-ba0a48c6a041",
   "metadata": {},
   "source": [
    "### Conclusions"
   ]
  },
  {
   "cell_type": "markdown",
   "id": "4597c31c-68ca-4315-a2a2-fb7445407c11",
   "metadata": {},
   "source": [
    "**Final ExtraTreesRegressor**"
   ]
  },
  {
   "cell_type": "code",
   "execution_count": null,
   "id": "11b75e16-f4ae-44bf-ad50-ec06770f3624",
   "metadata": {},
   "outputs": [],
   "source": [
    "df_eval = pd.read_csv(\"evaluation.csv\")\n",
    "df_eval = df_eval[features_used] # drop noise, tmax, rms"
   ]
  },
  {
   "cell_type": "code",
   "execution_count": null,
   "id": "8f593680-663a-4972-9547-87f042fb1da8",
   "metadata": {
    "scrolled": true
   },
   "outputs": [],
   "source": [
    "y_full = df_full.loc[:,['x','y']]\n",
    "X_full = df_full.iloc[:,2:]\n",
    "\n",
    "X_full.drop(columns=noise_columns+c, inplace=True) # drop noise, tmax, rms"
   ]
  },
  {
   "cell_type": "code",
   "execution_count": null,
   "id": "4ac76346-c295-49ab-a4be-cf45efb172a2",
   "metadata": {
    "scrolled": true
   },
   "outputs": [],
   "source": [
    "from sklearn.ensemble import ExtraTreesRegressor\n",
    "from sklearn.metrics import r2_score\n",
    "\n",
    "final_etr = ExtraTreesRegressor(n_estimators=300, max_features=0.5, criterion = 'squared_error', max_depth = None, random_state=rs, n_jobs=-1) #---> optimal configuration\n",
    "\n",
    "print(f\"start fitting: {datetime.now()}\")\n",
    "final_etr.fit(X_full, y_full)\n",
    "print(f\"end fitting: {datetime.now()}\")\n",
    "\n",
    "print(f\"start predicting: {datetime.now()}\")\n",
    "predictions = final_etr.predict(df_eval)\n",
    "print(f\"end predicting: {datetime.now()}\")\n",
    "\n",
    "data = {'Id': np.arange(0, predictions.shape[0]), 'Predicted': [f\"{val[0]}|{val[1]}\" for val in predictions]}\n",
    "submission = pd.DataFrame(data)\n",
    "submission.to_csv(\"output_etrFINAL.csv\", index=False)"
   ]
  }
 ],
 "metadata": {
  "kernelspec": {
   "display_name": "Python 3 (ipykernel)",
   "language": "python",
   "name": "python3"
  },
  "language_info": {
   "codemirror_mode": {
    "name": "ipython",
    "version": 3
   },
   "file_extension": ".py",
   "mimetype": "text/x-python",
   "name": "python",
   "nbconvert_exporter": "python",
   "pygments_lexer": "ipython3",
   "version": "3.11.0"
  }
 },
 "nbformat": 4,
 "nbformat_minor": 5
}
